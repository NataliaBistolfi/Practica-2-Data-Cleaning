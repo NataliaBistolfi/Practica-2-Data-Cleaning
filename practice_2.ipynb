{
 "cells": [
  {
   "cell_type": "markdown",
   "source": [
    "# Práctica 2\n",
    "\n",
    "Para esta tarea, veremos los datos de vacunas de 2017. El archivo con estos datos está en `/data/NISPUF17.csv`. Para conocer los nombres de las variables de los datos tienes disponible una guía de usuarios de datos en `/data/NIS-PUF17-DUG.pdf`."
   ],
   "metadata": {
    "collapsed": false
   }
  },
  {
   "cell_type": "markdown",
   "source": [
    "## Pregunta 1\n",
    "\n",
    "Escribe una función llamada `proportion_of_education` que devuelva la proporción de niños en el dataset que tuvieron una madre con los niveles de educación: igual a menor de secundaria (<12), secundaria (12), mayor que secundaria pero sin ser universitaria graduada (>12) y con título universitario.\n",
    "\n",
    "Esta función debería devolver un diccionario en forma de (use los números correctos, no redondee los números):\n",
    "\n",
    "```python\n",
    "{\"menor que  secundaria\": 0.2,\n",
    " \"secundaria\": 0.4,\n",
    " \"mayor a secundaria pero no universitaria\": 0.2,\n",
    " \"universitaria\": 0.2}\n",
    "```\n"
   ],
   "metadata": {
    "collapsed": false
   }
  },
  {
   "cell_type": "code",
   "source": [
    "import pandas as pd\n",
    "\n",
    "\n",
    "def proportion_of_education():\n",
    "    data = pd.read_csv('../data/NISPUF17.csv')\n",
    "    return data\n",
    "\n",
    "df = proportion_of_education()\n",
    "total = len(df)\n",
    "total"
   ],
   "metadata": {
    "ExecuteTime": {
     "end_time": "2024-10-31T22:59:30.209499Z",
     "start_time": "2024-10-31T22:59:25.323294Z"
    }
   },
   "outputs": [
    {
     "data": {
      "text/plain": [
       "28465"
      ]
     },
     "execution_count": 17,
     "metadata": {},
     "output_type": "execute_result"
    }
   ],
   "execution_count": 17
  },
  {
   "metadata": {
    "ExecuteTime": {
     "end_time": "2024-10-31T23:08:58.943058Z",
     "start_time": "2024-10-31T23:08:58.501033Z"
    }
   },
   "cell_type": "code",
   "source": [
    "menor_que_secundaria = df[df[\"EDUC1\"] == 1]\n",
    "menor_que_secundaria\n",
    "q_level_1 = len(menor_que_secundaria)\n",
    "level_1 = q_level_1 / total\n",
    "level_1"
   ],
   "outputs": [
    {
     "data": {
      "text/plain": [
       "0.10202002459160373"
      ]
     },
     "execution_count": 24,
     "metadata": {},
     "output_type": "execute_result"
    }
   ],
   "execution_count": 24
  },
  {
   "metadata": {
    "ExecuteTime": {
     "end_time": "2024-10-31T23:09:00.857337Z",
     "start_time": "2024-10-31T23:09:00.787398Z"
    }
   },
   "cell_type": "code",
   "source": [
    "secundaria = df[df[\"EDUC1\"] == 2]\n",
    "secundaria\n",
    "q_level_2 = len(secundaria)\n",
    "level_2 = q_level_2 / total\n",
    "level_2\n"
   ],
   "outputs": [
    {
     "data": {
      "text/plain": [
       "0.172352011241876"
      ]
     },
     "execution_count": 25,
     "metadata": {},
     "output_type": "execute_result"
    }
   ],
   "execution_count": 25
  },
  {
   "metadata": {
    "ExecuteTime": {
     "end_time": "2024-11-01T00:28:13.435293Z",
     "start_time": "2024-11-01T00:28:13.311587Z"
    }
   },
   "cell_type": "code",
   "source": [
    "mayor_a_secundaria_no_universitaria = df[df[\"EDUC1\"] == 3]\n",
    "mayor_a_secundaria_no_universitaria\n",
    "q_level_3 = len(mayor_a_secundaria_no_universitaria)\n",
    "level_3 = q_level_3 / total\n",
    "level_3"
   ],
   "outputs": [
    {
     "data": {
      "text/plain": [
       "0.24588090637625154"
      ]
     },
     "execution_count": 34,
     "metadata": {},
     "output_type": "execute_result"
    }
   ],
   "execution_count": 34
  },
  {
   "metadata": {
    "ExecuteTime": {
     "end_time": "2024-11-01T00:28:41.022930Z",
     "start_time": "2024-11-01T00:28:40.825447Z"
    }
   },
   "cell_type": "code",
   "source": [
    "universitaria = df[df[\"EDUC1\"] == 4]\n",
    "universitaria\n",
    "q_level_4 = len(universitaria)\n",
    "level_4 = q_level_4 / total\n",
    "level_4"
   ],
   "outputs": [
    {
     "data": {
      "text/plain": [
       "0.47974705779026877"
      ]
     },
     "execution_count": 35,
     "metadata": {},
     "output_type": "execute_result"
    }
   ],
   "execution_count": 35
  },
  {
   "metadata": {
    "collapsed": false,
    "ExecuteTime": {
     "end_time": "2024-11-01T00:27:38.436315Z",
     "start_time": "2024-11-01T00:27:38.408964Z"
    }
   },
   "cell_type": "code",
   "source": [
    "educacion = {\"menor que secundaria\": level_1,\n",
    "             \"secundaria\": level_2, \n",
    "             \"mayor a secundaria pero no universitaria\": level_3, \n",
    "             \"universitaria\": level_4}\n",
    "educacion"
   ],
   "outputs": [
    {
     "data": {
      "text/plain": [
       "{'menor que secundaria': 0.10202002459160373,\n",
       " 'secundaria': 0.172352011241876,\n",
       " 'mayor a secundaria pero no universitaria': 0.24588090637625154,\n",
       " 'universitaria': 0.47974705779026877}"
      ]
     },
     "execution_count": 33,
     "metadata": {},
     "output_type": "execute_result"
    }
   ],
   "execution_count": 33
  },
  {
   "cell_type": "markdown",
   "source": [
    "## Pregunta 2\n",
    "\n",
    "Exploremos la relación entre ser alimentado con leche materna (fed breast milk) cuando era niño y recibir una vacuna contra la influenza estacional (seasonal influenza) de un proveedor de atención médica.\n",
    "\n",
    "Devuelva una tupla del número promedio de vacunas contra la influenza para aquellos niños que sabemos que recibieron leche materna cuando eran niños y aquellos que sabemos que no."
   ],
   "metadata": {
    "collapsed": false
   }
  },
  {
   "cell_type": "code",
   "source": [
    "def average_influenza_doses():\n",
    "    data = pd.read_csv('../data/NISPUF17.csv')\n",
    "    return data\n",
    "    \n",
    "df = average_influenza_doses()\n",
    "total = len(df)\n",
    "total"
   ],
   "metadata": {},
   "outputs": [],
   "execution_count": null
  },
  {
   "metadata": {
    "ExecuteTime": {
     "end_time": "2024-11-05T15:57:42.499474Z",
     "start_time": "2024-11-05T15:57:40.999349Z"
    }
   },
   "cell_type": "code",
   "source": [
    "breastfed = df[df[\"CBF_01\"] == 1]\n",
    "breastfed\n",
    "q_level_1 = len(breastfed)\n",
    "q_level_1"
   ],
   "outputs": [
    {
     "data": {
      "text/plain": [
       "24261"
      ]
     },
     "execution_count": 156,
     "metadata": {},
     "output_type": "execute_result"
    }
   ],
   "execution_count": 156
  },
  {
   "metadata": {
    "ExecuteTime": {
     "end_time": "2024-11-05T15:58:01.402084Z",
     "start_time": "2024-11-05T15:58:01.310406Z"
    }
   },
   "cell_type": "code",
   "source": [
    "not_breastfed = df[df[\"CBF_01\"] == 2]\n",
    "not_breastfed\n",
    "q_level_2 = len(not_breastfed)\n",
    "q_level_2"
   ],
   "outputs": [
    {
     "data": {
      "text/plain": [
       "4085"
      ]
     },
     "execution_count": 157,
     "metadata": {},
     "output_type": "execute_result"
    }
   ],
   "execution_count": 157
  },
  {
   "metadata": {
    "ExecuteTime": {
     "end_time": "2024-11-05T16:02:18.745796Z",
     "start_time": "2024-11-05T16:02:18.712279Z"
    }
   },
   "cell_type": "code",
   "source": [
    "from statistics import mean\n",
    "\n",
    "avg_influenza_breastfed = breastfed[\"P_NUMFLU\"].mean()\n",
    "avg_influenza_not_breastfed = not_breastfed[\"P_NUMFLU\"].mean()\n",
    "float(avg_influenza_breastfed),float(avg_influenza_not_breastfed)\n"
   ],
   "outputs": [
    {
     "data": {
      "text/plain": [
       "(1.8799187420058687, 1.5963945918878317)"
      ]
     },
     "execution_count": 164,
     "metadata": {},
     "output_type": "execute_result"
    }
   ],
   "execution_count": 164
  },
  {
   "cell_type": "markdown",
   "source": [
    "# Pregunta 3\n",
    "\n",
    "Sería interesante ver si hay evidencia de un vínculo entre la efectividad de la vacuna y el sexo del niño.\n",
    "Calcule el ratio entre el número de niños que contrajeron varicela (chickenpox) pero que fueron vacunados contra ella (al menos una dosis) versus los que fueron vacunados y no contrajeron varicela.\n",
    "\n",
    "Devuelve los resultados por sexo.\n",
    "\n",
    "Esta función debería devolver un diccionario en forma de:\n",
    "\n",
    "```python\n",
    "{\"male\": 0.2, \"female\": 0.4}\n",
    "```\n",
    "\n",
    "Nota: Para ayudar en la verificación, el valor de chickenpox_by_sex()['female'] comienza con los dígitos 0.0077."
   ],
   "metadata": {
    "collapsed": false
   }
  },
  {
   "cell_type": "code",
   "source": [
    "import pandas as pd\n",
    "data = pd.read_csv('../data/NISPUF17.csv')\n",
    "\n",
    "def chickenpox_by_sex(): \n",
    "    vacunados = data[(data[\"P_NUMVRC\"] > 0 ) & (data[\"HAD_CPOX\"].notna())]\n",
    "    \n",
    "    results = {}\n",
    "    for sex, label in zip([1,2], [\"male\", \"female\"]):\n",
    "        sex_data = vacunados[vacunados[\"SEX\"] == sex]\n",
    "        chickenpox_cases = sex_data[\"HAD_CPOX\"].value_counts(normalize = True).get(1,0)\n",
    "        results[label] = float(chickenpox_cases / (1 - chickenpox_cases) if chickenpox_cases < 1 else 0)\n",
    "        \n",
    "    return results\n",
    "    \n",
    "print(chickenpox_by_sex())\n"
   ],
   "metadata": {
    "collapsed": false,
    "ExecuteTime": {
     "end_time": "2024-11-05T16:00:30.196601Z",
     "start_time": "2024-11-05T16:00:27.023243Z"
    }
   },
   "outputs": [
    {
     "name": "stdout",
     "output_type": "stream",
     "text": [
      "{'male': 0.009645390070921986, 'female': 0.007766705744431419}\n"
     ]
    }
   ],
   "execution_count": 160
  }
 ],
 "metadata": {
  "kernelspec": {
   "display_name": "Python 3",
   "language": "python",
   "name": "python3"
  },
  "language_info": {
   "codemirror_mode": {
    "name": "ipython",
    "version": 2
   },
   "file_extension": ".py",
   "mimetype": "text/x-python",
   "name": "python",
   "nbconvert_exporter": "python",
   "pygments_lexer": "ipython2",
   "version": "2.7.6"
  }
 },
 "nbformat": 4,
 "nbformat_minor": 0
}
